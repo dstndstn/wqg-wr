{
 "cells": [
  {
   "cell_type": "code",
   "execution_count": null,
   "metadata": {},
   "outputs": [],
   "source": [
    "using Pkg"
   ]
  },
  {
   "cell_type": "code",
   "execution_count": null,
   "metadata": {},
   "outputs": [],
   "source": [
    "Pkg.add(\"GraphPlot\")\n",
    "Pkg.add(\"LightGraphs\")\n",
    "Pkg.add(\"IterTools\")\n",
    "Pkg.add(\"Roots\")"
   ]
  },
  {
   "cell_type": "code",
   "execution_count": null,
   "metadata": {},
   "outputs": [],
   "source": [
    "using Statistics # needed for the mean function"
   ]
  },
  {
   "cell_type": "markdown",
   "metadata": {},
   "source": [
    "# WQG"
   ]
  },
  {
   "cell_type": "code",
   "execution_count": null,
   "metadata": {},
   "outputs": [],
   "source": [
    "include(\"wqg_wr.jl\")\n",
    "include(\"wqg_wr-temporary.jl\")"
   ]
  },
  {
   "cell_type": "markdown",
   "metadata": {},
   "source": [
    "# parameters"
   ]
  },
  {
   "cell_type": "code",
   "execution_count": null,
   "metadata": {},
   "outputs": [],
   "source": [
    "a = 10.0^(0)\n",
    "b = 1.0\n",
    "c = 0.6 # caustic constraint parameter\n",
    "ϵ = 0.0;"
   ]
  },
  {
   "cell_type": "markdown",
   "metadata": {},
   "source": [
    "### skeleton"
   ]
  },
  {
   "cell_type": "markdown",
   "metadata": {},
   "source": [
    "3D lattice graph here"
   ]
  },
  {
   "cell_type": "code",
   "execution_count": null,
   "metadata": {
    "scrolled": false
   },
   "outputs": [],
   "source": [
    "# set skeleton graph\n",
    "### z1 direction ordinary, the rest directions periodic\n",
    "z1, z2, z3 = 5,3,3\n",
    "lgs = [z1,z2,z3]\n",
    "D = length(lgs)\n",
    "d = D-1\n",
    "sk = LightGraphs.SimpleGraphs.grid(lgs[2:D], periodic=true)\n",
    "sk = cartesian_product(path_graph(z1),sk)\n",
    "\n",
    "# set interior and boundary edges\n",
    "levv_all = l_evv_vertices(sk,vertices(sk))\n",
    "# interior edges:\n",
    "bn1 = prod(lgs[2:D]) # no. vertices on one boundary\n",
    "levv_i = l_evv_vertices(sk,bn1+1:bn1*(z1-1))\n",
    "# boundary edges:\n",
    "levv_b = setdiff(levv_all,levv_i);\n",
    "\n",
    "gplot(sk,nodelabel=1:nv(sk))"
   ]
  },
  {
   "cell_type": "markdown",
   "metadata": {},
   "source": [
    "### initial data"
   ]
  },
  {
   "cell_type": "code",
   "execution_count": null,
   "metadata": {},
   "outputs": [],
   "source": [
    "# set boundary configurations:\n",
    "wv = 10.0^(.5) \n",
    "rv = 0.2\n",
    "wfix = value_hom(sk, D, wv)\n",
    "rfix = value_hom(sk, D, rv)\n",
    "\n",
    "# set the variable edges:\n",
    "levv = levv_all\n",
    "le = length(levv)\n",
    "ndim=2*le\n",
    "#ndim = 2\n",
    "\n",
    "# set fixed volume\n",
    "### volume is fixed here\n",
    "vol = 1000.0\n",
    "# set initial\n",
    "wi, wf = 0.01, 50\n",
    "rst = rv\n",
    "wst = solve_w_volfix(sk,D,b,levv,wfix,rfix,vol,rst,wi,wf)\n",
    "\n",
    "# starting configuration\n",
    "pstart = zeros(ndim)\n",
    "pstart[1:le] .+= wst\n",
    "pstart[1+le:end] .+= rst\n",
    "wstart = set_value(wfix, set_value(sk, levv, pstart[1:le])) \n",
    "rstart = set_value(rfix, set_value(sk, levv, pstart[1+le:end]))\n",
    "\n",
    "burnin=2000\n",
    "nsteps=100000\n",
    "\n",
    "#scaling\n",
    "ws = 1\n",
    "rs = 1\n",
    "\n",
    "# proposal jump sizes\n",
    "#jump_w = 1.0/ws\n",
    "jump_r = 1.0/10;\n",
    "\n",
    "# dstn\n",
    "jump_r *= 10.\n",
    "#jump_r *= 3.\n",
    "\n",
    "njumps = 2"
   ]
  },
  {
   "cell_type": "code",
   "execution_count": null,
   "metadata": {},
   "outputs": [],
   "source": [
    "log( camp_VG_wr_measure(sk, D, wstart, rstart, ws, rs, a, ϵ, levv_i, levv_b) ) + ( length(levv_i) * log(d) )"
   ]
  },
  {
   "cell_type": "markdown",
   "metadata": {},
   "source": [
    "### mc run"
   ]
  },
  {
   "cell_type": "code",
   "execution_count": null,
   "metadata": {},
   "outputs": [],
   "source": [
    "chain = zeros(nsteps, ndim)\n",
    "chain_propose_pars = zeros(nsteps, ndim)\n",
    "chain_logamp = zeros(nsteps)\n",
    "chain_propose_logamp = zeros(nsteps)\n",
    "chain_idx_r = zeros(nsteps, njumps)\n",
    "chain_idx_w = zeros(nsteps, njumps)\n",
    "chain_propose_r = zeros(nsteps, njumps)\n",
    "chain_propose_w = zeros(nsteps, njumps)\n",
    "chain_old_r = zeros(nsteps, njumps)\n",
    "chain_old_w = zeros(nsteps, njumps)\n",
    "chain_gap = zeros(nsteps)\n",
    "\n",
    "# initial parameters\n",
    "pars = copy(pstart)\n",
    "naccepted = 0\n",
    "wvalue = copy(wstart)\n",
    "rvalue = copy(rstart)\n",
    "\n",
    "# initial log-posterior.\n",
    "# logamp = ln_wqg_wr(sk, levv, pars::Vector{Float64}, wfix, rfix, a, b, levv_b)  \n",
    "logamp = log( camp_VG_wr_measure(sk, D, wvalue, rvalue, ws, rs, a, ϵ, levv_i, levv_b) ) + ( length(levv_i) * log(d) )\n",
    "\n",
    "## can make more local:\n",
    "wpropose = set_value(wvalue, set_value(sk, levv, pars[1:le]))\n",
    "rpropose = set_value(rvalue, set_value(sk, levv, pars[le+1:2*le]))\n",
    "\n",
    "nok = 0\n",
    "for step in 1:nsteps\n",
    "    if (step % 1000 == 0)\n",
    "        print(step, ' ')\n",
    "        flush(stdout)\n",
    "    end\n",
    "    pars_new = copy(pars)\n",
    "\n",
    "    # ratio = amp_propose/amp_old\n",
    "    rn, ro = 1.0, 1.0\n",
    "    \n",
    "    for jump in 1:njumps\n",
    "        # generate random edges for moves\n",
    "        idx_r = rand(1:le)\n",
    "        #idx_w = rand(1:le)\n",
    "        idx_w = idx_r\n",
    "\n",
    "        evv_j = levv[idx_r]\n",
    "        evv_l = levv[idx_w]\n",
    "        # apply constraints: 0<w and r<c^2*pi^2\n",
    "        r_p = pars[le+idx_r] + randn() * jump_r\n",
    "        if (jump == 1)\n",
    "            w_p = w_new(sk, D, evv_j, evv_l, wvalue, rvalue, r_p)\n",
    "        else\n",
    "            w_p = w_new(sk, D, evv_j, evv_l, wpropose, rpropose, r_p)\n",
    "        end\n",
    "        if r_p <= c^2 * pi^2 && w_p > 0\n",
    "            nok += 1\n",
    "            pars_new[idx_w] = w_p\n",
    "            pars_new[le+idx_r] = r_p\n",
    "        end\n",
    "        chain_propose_r[step, jump] = pars_new[le+idx_r]\n",
    "        chain_propose_w[step, jump] = pars_new[idx_w]\n",
    "        chain_old_r[step, jump] = pars[le+idx_r]\n",
    "        chain_old_r[step, jump] = pars[idx_w]\n",
    "        chain_idx_w[step, jump] = idx_w\n",
    "        chain_idx_r[step, jump] = idx_r\n",
    "\n",
    "        # compute log-posterior at new parameters   \n",
    "        # edges needing update:\n",
    "        levv_new = union(l_evv_vertices(sk,evv_l.v1),l_evv_vertices(sk,evv_l.v2),[evv_j])\n",
    "        # proposed w and r configurations:\n",
    "        ## can make more local:\n",
    "        wpropose = set_value(wvalue, set_value(sk, levv, pars_new[1:le]))\n",
    "        rpropose = set_value(rvalue, set_value(sk, levv, pars_new[le+1:2*le]))\n",
    "    \n",
    "        for i in levv_new\n",
    "            α = corners_α_w(sk, D, i, a, wvalue)\n",
    "            α_new = corners_α_w(sk, D, i, a, wpropose)\n",
    "            if i in levv_i\n",
    "                campEdge = campEdge_wr_measure(sk, D, wvalue, rvalue, ws, rs, i, α, ϵ)\n",
    "                campEdge_new = campEdge_wr_measure(sk, D, wpropose, rpropose, ws, rs, i, α_new, ϵ)\n",
    "            else \n",
    "                campEdge = campEdge_b(sk, D, wvalue, rvalue, i, α)\n",
    "                campEdge_new = campEdge_b(sk, D, wpropose, rpropose, i, α_new)\n",
    "            end\n",
    "            rn *= campEdge_new\n",
    "            ro *= campEdge\n",
    "        end\n",
    "\n",
    "    end\n",
    "    chain_propose_pars[step,:] = pars_new::Vector{Float64}\n",
    "\n",
    "    # amp_new:\n",
    "    # The rn and ro value are moderate (> 1e-3, < 1e3)\n",
    "    logamp_new = logamp + log(rn/ro)\n",
    "    chain_propose_logamp[step] = logamp_new\n",
    "\n",
    "    gap = rand(Float64)\n",
    "    chain_gap[step] = gap\n",
    "    if exp(logamp_new - logamp) >= gap\n",
    "        logamp = logamp_new\n",
    "        pars = pars_new\n",
    "        naccepted += 1\n",
    "        wvalue = set_value(wstart, set_value(sk, levv, pars[1:le]))\n",
    "        rvalue = set_value(rstart, set_value(sk, levv, pars[le+1:2*le]))\n",
    "    end\n",
    "    chain[step,:] = pars::Vector{Float64}\n",
    "    chain_logamp[step] = logamp\n",
    "end\n",
    "# (s,ρ) configurations\n",
    "chain_sρ = copy(chain)\n",
    "for i in 1:nsteps\n",
    "    for j in 1:le\n",
    "        chain_sρ[i,j] = 1/chain[i,j]\n",
    "        chain_sρ[i,j+le] = d*chain[i,j]^2*chain[i,j+le]\n",
    "    end\n",
    "end"
   ]
  },
  {
   "cell_type": "markdown",
   "metadata": {},
   "source": [
    "# data display"
   ]
  },
  {
   "cell_type": "code",
   "execution_count": null,
   "metadata": {},
   "outputs": [],
   "source": [
    "naccepted, naccepted/nsteps, nok/nsteps/njumps"
   ]
  },
  {
   "cell_type": "code",
   "execution_count": null,
   "metadata": {},
   "outputs": [],
   "source": [
    "using FITSIO"
   ]
  },
  {
   "cell_type": "code",
   "execution_count": null,
   "metadata": {},
   "outputs": [],
   "source": [
    "nsteps"
   ]
  },
  {
   "cell_type": "code",
   "execution_count": null,
   "metadata": {},
   "outputs": [],
   "source": [
    "chain_w = zeros(Float32, le, nsteps)\n",
    "chain_r = zeros(Float32, le, nsteps)\n",
    "chain_w[:,:] = transpose(chain[:, 1:le])\n",
    "chain_r[:,:] = transpose(chain[:,le+1:end]);"
   ]
  },
  {
   "cell_type": "code",
   "execution_count": null,
   "metadata": {},
   "outputs": [],
   "source": [
    "f = FITS(\"chain.fits\", \"w\");\n",
    "data = Dict(\"chain_w\"=>chain_w, \"chain_r\"=>chain_r);\n",
    "write(f, data)\n",
    "close(f)"
   ]
  },
  {
   "cell_type": "code",
   "execution_count": null,
   "metadata": {},
   "outputs": [],
   "source": [
    "tstvolume(nsteps)"
   ]
  },
  {
   "cell_type": "code",
   "execution_count": null,
   "metadata": {},
   "outputs": [],
   "source": [
    "plot(chain_logamp, label = \"logamp\")"
   ]
  },
  {
   "cell_type": "code",
   "execution_count": null,
   "metadata": {},
   "outputs": [],
   "source": [
    "histogram(chain_propose_r - chain_old_r)"
   ]
  },
  {
   "cell_type": "code",
   "execution_count": null,
   "metadata": {},
   "outputs": [],
   "source": [
    "accepted = (chain_logamp .= chain_propose_logamp)"
   ]
  },
  {
   "cell_type": "code",
   "execution_count": null,
   "metadata": {},
   "outputs": [],
   "source": []
  },
  {
   "cell_type": "code",
   "execution_count": null,
   "metadata": {},
   "outputs": [],
   "source": []
  },
  {
   "cell_type": "code",
   "execution_count": null,
   "metadata": {},
   "outputs": [],
   "source": []
  },
  {
   "cell_type": "code",
   "execution_count": null,
   "metadata": {},
   "outputs": [],
   "source": [
    "lo =  0.\n",
    "hi =  3.0\n",
    "step = 0.25\n",
    "nbins = Int(1 + (hi - lo) / step)"
   ]
  },
  {
   "cell_type": "code",
   "execution_count": null,
   "metadata": {},
   "outputs": [],
   "source": [
    "diff = chain_propose_r - chain_old_r\n",
    "diff = hypot.(diff[:,1], diff[:,2])\n",
    "binvals = lo:step:hi\n",
    "nstep = zeros(length(binvals))\n",
    "nacc  = zeros(length(binvals))\n",
    "for j in 1:length(diff)\n",
    "d = diff[j]\n",
    "    if ((d < lo) || (d > hi))\n",
    "        continue\n",
    "    end\n",
    "    bin = Int(trunc((d - lo) / step))\n",
    "    nstep[bin+1] += 1\n",
    "    if (chain_propose_logamp[j] == chain_logamp[j])\n",
    "        nacc[bin+1] += 1\n",
    "    end\n",
    "end    "
   ]
  },
  {
   "cell_type": "code",
   "execution_count": null,
   "metadata": {},
   "outputs": [],
   "source": [
    "plot(binvals, nacc./nstep)"
   ]
  },
  {
   "cell_type": "code",
   "execution_count": null,
   "metadata": {},
   "outputs": [],
   "source": []
  },
  {
   "cell_type": "code",
   "execution_count": null,
   "metadata": {},
   "outputs": [],
   "source": []
  },
  {
   "cell_type": "code",
   "execution_count": null,
   "metadata": {},
   "outputs": [],
   "source": []
  },
  {
   "cell_type": "code",
   "execution_count": null,
   "metadata": {},
   "outputs": [],
   "source": [
    "mean(chain_propose_logamp[2:nsteps] - chain_logamp[1:nsteps-1])"
   ]
  },
  {
   "cell_type": "code",
   "execution_count": null,
   "metadata": {},
   "outputs": [],
   "source": [
    "std(chain_propose_logamp[2:nsteps] - chain_logamp[1:nsteps-1])"
   ]
  },
  {
   "cell_type": "code",
   "execution_count": null,
   "metadata": {},
   "outputs": [],
   "source": [
    "ndims(chain)"
   ]
  },
  {
   "cell_type": "code",
   "execution_count": null,
   "metadata": {},
   "outputs": [],
   "source": [
    "size(chain)"
   ]
  },
  {
   "cell_type": "code",
   "execution_count": null,
   "metadata": {},
   "outputs": [],
   "source": [
    "length(Set(chain[:,1]))"
   ]
  },
  {
   "cell_type": "code",
   "execution_count": null,
   "metadata": {},
   "outputs": [],
   "source": [
    "plot(chain[:,1])\n",
    "plot!(chain[:,2])\n",
    "plot!(chain[:,3])\n",
    "plot!(chain[:,4])\n",
    "plot!(chain[:,100])"
   ]
  },
  {
   "cell_type": "code",
   "execution_count": null,
   "metadata": {},
   "outputs": [],
   "source": [
    "plot(chain[:,127])\n",
    "plot!(chain[:,128])\n",
    "plot!(chain[:,129])\n",
    "plot!(chain[:,130])\n",
    "plot!(chain[:,226])"
   ]
  },
  {
   "cell_type": "code",
   "execution_count": null,
   "metadata": {},
   "outputs": [],
   "source": [
    "nsteps"
   ]
  },
  {
   "cell_type": "code",
   "execution_count": null,
   "metadata": {},
   "outputs": [],
   "source": [
    "histogram(vec(chain[1000,         le+1:end]), label=\"r values (step 1000)\")\n",
    "histogram!(vec(chain[Int(nsteps/2),le+1:end]), label=\"r values (halfway)\")\n",
    "histogram!(vec(chain[nsteps,       le+1:end]), label=\"r values (final step)\")"
   ]
  },
  {
   "cell_type": "code",
   "execution_count": null,
   "metadata": {},
   "outputs": [],
   "source": [
    "histogram(vec(chain[:,1:126]), label=\"w values\")"
   ]
  },
  {
   "cell_type": "code",
   "execution_count": null,
   "metadata": {},
   "outputs": [],
   "source": [
    "Nburn = 1000"
   ]
  },
  {
   "cell_type": "code",
   "execution_count": null,
   "metadata": {},
   "outputs": [],
   "source": [
    "histogram(log.(vec(chain[Nburn:end,1:126])), label=\"log(w) samples\")\n",
    "#savefig(\"w-samples-1.png\")"
   ]
  },
  {
   "cell_type": "code",
   "execution_count": null,
   "metadata": {},
   "outputs": [],
   "source": [
    "histogram(vec(chain[Nburn:end,127:end]), label=\"r values\")"
   ]
  },
  {
   "cell_type": "code",
   "execution_count": null,
   "metadata": {},
   "outputs": [],
   "source": [
    "histogram(vec(chain[Nburn:end,127:end]), label=\"r values\", bins=range(-3, 5, length=50))\n",
    "#yaxis!(:log10)"
   ]
  },
  {
   "cell_type": "code",
   "execution_count": null,
   "metadata": {},
   "outputs": [],
   "source": [
    "histogram(vec(chain[Nburn:end,127:4:end]), label=\"r values\", bins=range(-3, 5, length=50))\n",
    "histogram!(vec(chain[Nburn:end,128:4:end]), label=\"r values\", bins=range(-3, 5, length=50))\n",
    "histogram!(vec(chain[Nburn:end,129:4:end]), label=\"r values\", bins=range(-3, 5, length=50))\n",
    "histogram!(vec(chain[Nburn:end,130:4:end]), label=\"r values\", bins=range(-3, 5, length=50))\n",
    "yaxis!(\"Number of MCMC samples\")\n",
    "title!(\"r samples split into 4 sets\")\n",
    "#savefig(\"r-samples-1.png\")"
   ]
  },
  {
   "cell_type": "code",
   "execution_count": null,
   "metadata": {},
   "outputs": [],
   "source": [
    "scatter(chain[90000:end,2], chain[90000:end,128]) #, zcolor=chain_logamp[90000:end])\n",
    "xaxis!(\"w\", :log10)\n",
    "yaxis!(\"r\")"
   ]
  },
  {
   "cell_type": "code",
   "execution_count": null,
   "metadata": {},
   "outputs": [],
   "source": [
    "mean(wvalue)"
   ]
  },
  {
   "cell_type": "code",
   "execution_count": null,
   "metadata": {},
   "outputs": [],
   "source": [
    "mean(rvalue)"
   ]
  },
  {
   "cell_type": "code",
   "execution_count": null,
   "metadata": {},
   "outputs": [],
   "source": [
    "var(wvalue)"
   ]
  },
  {
   "cell_type": "code",
   "execution_count": null,
   "metadata": {},
   "outputs": [],
   "source": [
    "var(rvalue)"
   ]
  },
  {
   "cell_type": "markdown",
   "metadata": {},
   "source": [
    "# Search peaks: amplitudes only go up in mcmc"
   ]
  },
  {
   "cell_type": "markdown",
   "metadata": {},
   "source": [
    "### initial data"
   ]
  },
  {
   "cell_type": "code",
   "execution_count": null,
   "metadata": {},
   "outputs": [],
   "source": [
    "# set boundary configurations:\n",
    "wv = 10.0^(.5) \n",
    "rv = 0.2\n",
    "wfix = value_hom(sk, D, wv)\n",
    "rfix = value_hom(sk, D, rv)\n",
    "\n",
    "# set the variable edges:\n",
    "levv = levv_all\n",
    "le = length(levv)\n",
    "ndim=2*le\n",
    "#ndim = 2\n",
    "\n",
    "# set fixed volume\n",
    "vol = 1000.0\n",
    "# set initial\n",
    "wi, wf = 0.01, 50\n",
    "rst = rv\n",
    "wst = solve_w_volfix(sk,D,b,levv,wfix,rfix,vol,rst,wi,wf)\n",
    "\n",
    "# starting configuration\n",
    "pstart = zeros(ndim)\n",
    "pstart[1:le] .+= wst\n",
    "pstart[1+le:end] .+= rst\n",
    "wstart = set_value(wfix, set_value(sk, levv, pstart[1:le])) \n",
    "rstart = set_value(rfix, set_value(sk, levv, pstart[1+le:end]))\n",
    "\n",
    "burnin=2000\n",
    "nsteps=5000\n",
    "\n",
    "#scaling\n",
    "ws = 1\n",
    "rs = 1\n",
    "\n",
    "# proposal jump sizes\n",
    "jump_w = 1.0/ws\n",
    "jump_r = 1.0/10;"
   ]
  },
  {
   "cell_type": "code",
   "execution_count": null,
   "metadata": {},
   "outputs": [],
   "source": [
    "log( camp_VG_wr_measure(sk, D, wstart, rstart, ws, rs, a, ϵ, levv_i, levv_b) ) + ( length(levv_i) * log(d) )"
   ]
  },
  {
   "cell_type": "code",
   "execution_count": null,
   "metadata": {},
   "outputs": [],
   "source": [
    "wstart"
   ]
  },
  {
   "cell_type": "code",
   "execution_count": null,
   "metadata": {},
   "outputs": [],
   "source": [
    "rstart"
   ]
  },
  {
   "cell_type": "markdown",
   "metadata": {},
   "source": [
    "### mc run: chain only increases amplitude"
   ]
  },
  {
   "cell_type": "code",
   "execution_count": null,
   "metadata": {},
   "outputs": [],
   "source": [
    "chain = []\n",
    "chain_propose_pars = []\n",
    "chain_logamp = []\n",
    "chain_propose_logamp = []\n",
    "chain_idx_r = []\n",
    "chain_idx_w = []\n",
    "chain_gap = []\n",
    "\n",
    "# initial parameters\n",
    "pars = copy(pstart)\n",
    "naccepted = 0\n",
    "wvalue = copy(wstart)\n",
    "rvalue = copy(rstart)\n",
    "\n",
    "# initial log-posterior.\n",
    "#logamp = ln_wqg_wr(sk, levv, pars::Vector{Float64}, wfix, rfix, a, b, levv_b)  \n",
    "logamp = log( camp_VG_wr_measure(sk, D, wvalue, rvalue, ws, rs, a, ϵ, levv_i, levv_b) ) + ( length(levv_i) * log(d) )\n",
    "\n",
    "for i in 1:nsteps\n",
    "    pars_new = copy(pars)\n",
    "    # generate random edges for moves\n",
    "    idx_r = rand(1:le)\n",
    "    idx_w = rand(1:le)\n",
    "    evv_j = levv[idx_r]\n",
    "    evv_l = levv[idx_w]\n",
    "    # apply constraints: 0<w and r<c^2*pi^2\n",
    "    r_p = pars[le+idx_r] + randn() * jump_r\n",
    "    w_p = w_new(sk, D, evv_j, evv_l, wvalue, rvalue, r_p)\n",
    "    if r_p <= c^2 * pi^2 && w_p > 0\n",
    "        pars_new[idx_w] = w_p\n",
    "        pars_new[le+idx_r] = r_p\n",
    "    end\n",
    "    append!(chain_propose_pars, pars_new::Vector{Float64})\n",
    "    append!(chain_idx_w, idx_w)\n",
    "    append!(chain_idx_r, idx_r)\n",
    "        \n",
    "    # compute log-posterior at new parameters   \n",
    "    # edges needing update:\n",
    "    levv_new = union(l_evv_vertices(sk,evv_l.v1),l_evv_vertices(sk,evv_l.v2),[evv_j])\n",
    "    # proposed w and r configurations:\n",
    "    ## can make more local:\n",
    "    wpropose = set_value(wvalue, set_value(sk, levv, pars_new[1:le]))\n",
    "    rpropose = set_value(rvalue, set_value(sk, levv, pars_new[le+1:2*le]))\n",
    "    # ratio = amp_propose/amp_old\n",
    "    rn, ro = 1.0, 1.0\n",
    "    for i in levv_new\n",
    "        α = corners_α_w(sk, D, i, a, wvalue)\n",
    "        α_new = corners_α_w(sk, D, i, a, wpropose)\n",
    "        if i in levv_i\n",
    "            campEdge = campEdge_wr_measure(sk, D, wvalue, rvalue, ws, rs, i, α, ϵ)\n",
    "            campEdge_new = campEdge_wr_measure(sk, D, wpropose, rpropose, ws, rs, i, α_new, ϵ)\n",
    "        else \n",
    "            campEdge = campEdge_b(sk, D, wvalue, rvalue, i, α)\n",
    "            campEdge_new = campEdge_b(sk, D, wpropose, rpropose, i, α_new)\n",
    "        end\n",
    "        rn *= campEdge_new\n",
    "        ro *= campEdge\n",
    "    end\n",
    "    # amp_new:\n",
    "    logamp_new = logamp + log(rn/ro)\n",
    "    append!(chain_propose_logamp, logamp_new)\n",
    "\n",
    "    gap = rand(Float64)\n",
    "    append!(chain_gap, gap)\n",
    "    if exp(logamp_new - logamp) >= 1 ## set chain only increases amplitude\n",
    "        #(exp(logamp_new - logamp) >= min(1,2*gap) )\n",
    "        logamp = logamp_new\n",
    "        pars = pars_new\n",
    "        naccepted += 1\n",
    "        wvalue = set_value(wstart, set_value(sk, levv, pars[1:le]))\n",
    "        rvalue = set_value(rstart, set_value(sk, levv, pars[le+1:2*le]))\n",
    "    end\n",
    "    append!(chain, pars::Vector{Float64})\n",
    "    append!(chain_logamp, logamp)\n",
    "end\n",
    "# append! makes \"chain\" a 1-d vector; reshape to a matrix\n",
    "chain = reshape(chain, (ndim,Int64(length(chain)/ndim)))';\n",
    "chain_propose_pars = reshape(chain_propose_pars, (ndim,Int64(length(chain)/ndim)))';\n",
    "# (s,ρ) configurations\n",
    "chain_sρ = copy(chain)\n",
    "for i in 1:nsteps\n",
    "    for j in 1:le\n",
    "        chain_sρ[i,j] = 1/chain[i,j]\n",
    "        chain_sρ[i,j+le] = d*chain[i,j]^2*chain[i,j+le]\n",
    "    end\n",
    "end"
   ]
  },
  {
   "cell_type": "markdown",
   "metadata": {},
   "source": [
    "### data display"
   ]
  },
  {
   "cell_type": "code",
   "execution_count": null,
   "metadata": {},
   "outputs": [],
   "source": [
    "naccepted"
   ]
  },
  {
   "cell_type": "code",
   "execution_count": null,
   "metadata": {},
   "outputs": [],
   "source": [
    "tstvolume(nsteps)"
   ]
  },
  {
   "cell_type": "code",
   "execution_count": null,
   "metadata": {},
   "outputs": [],
   "source": [
    "plot(chain_logamp,1:1:nsteps,label = \"logamp\")"
   ]
  },
  {
   "cell_type": "code",
   "execution_count": null,
   "metadata": {},
   "outputs": [],
   "source": [
    "chain_logamp"
   ]
  },
  {
   "cell_type": "code",
   "execution_count": null,
   "metadata": {},
   "outputs": [],
   "source": [
    "mean(wvalue)"
   ]
  },
  {
   "cell_type": "code",
   "execution_count": null,
   "metadata": {},
   "outputs": [],
   "source": [
    "mean(rvalue)"
   ]
  },
  {
   "cell_type": "code",
   "execution_count": null,
   "metadata": {},
   "outputs": [],
   "source": [
    "var(wvalue)"
   ]
  },
  {
   "cell_type": "code",
   "execution_count": null,
   "metadata": {},
   "outputs": [],
   "source": [
    "var(rvalue)"
   ]
  },
  {
   "cell_type": "code",
   "execution_count": null,
   "metadata": {},
   "outputs": [],
   "source": []
  }
 ],
 "metadata": {
  "kernelspec": {
   "display_name": "Julia 1.3.0",
   "language": "julia",
   "name": "julia-1.3"
  },
  "language_info": {
   "file_extension": ".jl",
   "mimetype": "application/julia",
   "name": "julia",
   "version": "1.3.0"
  }
 },
 "nbformat": 4,
 "nbformat_minor": 2
}
